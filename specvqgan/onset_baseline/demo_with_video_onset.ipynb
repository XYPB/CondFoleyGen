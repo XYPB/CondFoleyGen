{
 "cells": [
  {
   "cell_type": "markdown",
   "metadata": {},
   "source": [
    "# Change audio by detecting onset \n",
    "This notebook contains a method that could change the target video sound with a given audio."
   ]
  },
  {
   "cell_type": "markdown",
   "metadata": {},
   "source": [
    "### Load packages"
   ]
  },
  {
   "cell_type": "code",
   "execution_count": 28,
   "metadata": {},
   "outputs": [],
   "source": [
    "import IPython\n",
    "import os\n",
    "import numpy as np\n",
    "from moviepy.editor import *\n",
    "import librosa\n",
    "from IPython.display import Audio\n",
    "from IPython.display import Video"
   ]
  },
  {
   "cell_type": "code",
   "execution_count": 29,
   "metadata": {},
   "outputs": [],
   "source": [
    "# Read videos\n",
    "origin_video_path = 'demo-data/original.mp4'\n",
    "# conditional_video_path = 'demo-data/conditional.mp4'\n",
    "conditional_video_path = 'demo-data/dog_bark.mp4'\n",
    "\n",
    "ori_videoclip = VideoFileClip(origin_video_path)\n",
    "con_videoclip = VideoFileClip(conditional_video_path)\n"
   ]
  },
  {
   "cell_type": "code",
   "execution_count": 30,
   "metadata": {},
   "outputs": [
    {
     "data": {
      "text/html": [
       "<video src=\"demo-data/original.mp4\" controls  width=\"640\" >\n",
       "      Your browser does not support the <code>video</code> element.\n",
       "    </video>"
      ],
      "text/plain": [
       "<IPython.core.display.Video object>"
      ]
     },
     "execution_count": 30,
     "metadata": {},
     "output_type": "execute_result"
    }
   ],
   "source": [
    "Video(origin_video_path, width=640)"
   ]
  },
  {
   "cell_type": "code",
   "execution_count": 31,
   "metadata": {},
   "outputs": [
    {
     "data": {
      "text/html": [
       "<video src=\"demo-data/dog_bark.mp4\" controls  width=\"640\" >\n",
       "      Your browser does not support the <code>video</code> element.\n",
       "    </video>"
      ],
      "text/plain": [
       "<IPython.core.display.Video object>"
      ]
     },
     "execution_count": 31,
     "metadata": {},
     "output_type": "execute_result"
    }
   ],
   "source": [
    "Video(conditional_video_path, width=640)"
   ]
  },
  {
   "cell_type": "code",
   "execution_count": 32,
   "metadata": {},
   "outputs": [],
   "source": [
    "# get the audio track from video\n",
    "ori_audioclip = ori_videoclip.audio\n",
    "ori_audio, ori_sr = ori_audioclip.to_soundarray(), ori_audioclip.fps\n",
    "con_audioclip = con_videoclip.audio\n",
    "con_audio, con_sr = con_audioclip.to_soundarray(), con_audioclip.fps\n",
    "\n",
    "ori_audio = ori_audio.mean(-1)\n",
    "con_audio = con_audio.mean(-1)\n",
    "\n",
    "target_sr = 22050\n",
    "ori_audio = librosa.resample(ori_audio, orig_sr=ori_sr, target_sr=target_sr)\n",
    "con_audio = librosa.resample(con_audio, orig_sr=con_sr, target_sr=target_sr)\n",
    "\n",
    "ori_sr, con_sr = target_sr, target_sr"
   ]
  },
  {
   "cell_type": "code",
   "execution_count": 33,
   "metadata": {},
   "outputs": [],
   "source": [
    "def detect_onset_of_audio(audio, sample_rate):\n",
    "    onsets = librosa.onset.onset_detect(\n",
    "        y=audio, sr=sample_rate, units='samples', delta=0.3)\n",
    "    return onsets\n"
   ]
  },
  {
   "cell_type": "code",
   "execution_count": 34,
   "metadata": {},
   "outputs": [
    {
     "data": {
      "image/png": "[encoded data removed]",
      "text/plain": [
       "<Figure size 600x400 with 1 Axes>"
      ]
     },
     "metadata": {
      "needs_background": "light"
     },
     "output_type": "display_data"
    }
   ],
   "source": [
    "from matplotlib import pyplot as plt\n",
    "onsets = detect_onset_of_audio(ori_audio, ori_sr)\n",
    "plt.figure(dpi=100)\n",
    "\n",
    "time = np.arange(ori_audio.shape[0])\n",
    "plt.plot(time, ori_audio)\n",
    "plt.vlines(onsets, 0, ymax=0.8, colors='r')\n",
    "plt.show()\n"
   ]
  },
  {
   "cell_type": "markdown",
   "metadata": {},
   "source": [
    "### Method\n",
    "The baseline is quite simple, and it has several steps:\n",
    "- Take the original video, and apply self-trained video onset detection model to detect the onset\n",
    "- Detect onsets of conditional waveform (encoded and decoded by our codebook) and clip single onset event from them as sound candicates\n",
    "- For each onset of original waveform, replace with conditional onset event randomly and then generate sound"
   ]
  },
  {
   "cell_type": "code",
   "execution_count": 35,
   "metadata": {},
   "outputs": [
    {
     "name": "stdout",
     "output_type": "stream",
     "text": [
      "env: CUDA_VISIBLE_DEVICES=9\n",
      "=> loading checkpoint 'checkpoints/EXP1/checkpoint_ep70.pth.tar'\n",
      "=> loaded checkpoint 'checkpoints/EXP1/checkpoint_ep70.pth.tar' (epoch 70)\n"
     ]
    }
   ],
   "source": [
    "%env CUDA_VISIBLE_DEVICES=9\n",
    "import argparse\n",
    "import numpy as np\n",
    "import os\n",
    "import sys\n",
    "import time\n",
    "from tqdm import tqdm\n",
    "from collections import OrderedDict\n",
    "\n",
    "import torch\n",
    "import torch.nn as nn\n",
    "import torch.nn.functional as F\n",
    "from torch.utils.data import DataLoader\n",
    "from torch.utils.tensorboard import SummaryWriter\n",
    "\n",
    "\n",
    "from config import init_args\n",
    "import data\n",
    "import models\n",
    "from models import *\n",
    "from utils import utils, torch_utils\n",
    "\n",
    "device = torch.device(\"cuda\" if torch.cuda.is_available() else \"cpu\")\n",
    "\n",
    "\n",
    "net = models.VideoOnsetNet(pretrained=False).to(device)\n",
    "resume = 'checkpoints/EXP1/checkpoint_ep70.pth.tar'\n",
    "net, _ = torch_utils.load_model(resume, net, device=device, strict=True)\n"
   ]
  },
  {
   "cell_type": "code",
   "execution_count": 36,
   "metadata": {},
   "outputs": [],
   "source": [
    "import torchvision.transforms as transforms\n",
    "from PIL import Image\n",
    "\n",
    "\n",
    "vision_transform_list = [\n",
    "    transforms.Resize((128, 128)),\n",
    "    transforms.CenterCrop((112, 112)),\n",
    "    transforms.Normalize(mean=[0.485, 0.456, 0.406], std=[0.229, 0.224, 0.225])\n",
    "]\n",
    "video_transform = transforms.Compose(vision_transform_list)\n",
    "\n",
    "def read_image(frame_list):\n",
    "    imgs = []\n",
    "    convert_tensor = transforms.ToTensor()\n",
    "    for img_path in frame_list:\n",
    "        image = Image.open(img_path).convert('RGB')\n",
    "        image = convert_tensor(image)\n",
    "        imgs.append(image.unsqueeze(0))\n",
    "    # (T, C, H ,W)\n",
    "    imgs = torch.cat(imgs, dim=0).squeeze()\n",
    "    imgs = video_transform(imgs)\n",
    "    imgs = imgs.permute(1, 0, 2, 3)\n",
    "    # (C, T, H ,W)\n",
    "    return imgs\n"
   ]
  },
  {
   "cell_type": "code",
   "execution_count": 37,
   "metadata": {},
   "outputs": [],
   "source": [
    "# process videos into frames and read them\n",
    "import glob\n",
    "\n",
    "save_path = 'demo-data/original_frames'\n",
    "if os.path.exists(save_path):\n",
    "    os.system(f'rm -rf {save_path}')\n",
    "os.makedirs(save_path)\n",
    "command = f'ffmpeg -v quiet -y -i \\\"{origin_video_path}\\\" -f image2 -vf \\\"scale=-1:360,fps=15\\\" -qscale:v 3 \\\"{save_path}\\\"/frame%06d.jpg'\n",
    "os.system(command)\n",
    "\n",
    "frame_list = glob.glob(f'{save_path}/*.jpg')\n",
    "frame_list.sort()\n",
    "frame_list = frame_list[:2 * 15]\n",
    "\n",
    "frames = read_image(frame_list)\n"
   ]
  },
  {
   "cell_type": "code",
   "execution_count": 38,
   "metadata": {},
   "outputs": [],
   "source": [
    "inputs = {\n",
    "    'frames': frames.unsqueeze(0).to(device)\n",
    "}\n",
    "pred = net(inputs).squeeze()\n",
    "pred = torch.sigmoid(pred).data.cpu().numpy()"
   ]
  },
  {
   "cell_type": "code",
   "execution_count": 39,
   "metadata": {},
   "outputs": [],
   "source": [
    "def postprocess_video_onsets(probs, thres=0.5, nearest=5):\n",
    "    # import pdb; pdb.set_trace()\n",
    "    video_onsets = []\n",
    "    pred = np.array(probs, copy=True)\n",
    "    while True:\n",
    "        max_ind = np.argmax(pred)\n",
    "        video_onsets.append(max_ind)\n",
    "        low = max(max_ind - nearest, 0)\n",
    "        high = min(max_ind + nearest, pred.shape[0])\n",
    "        pred[low: high] = 0\n",
    "        if (pred > thres).sum() == 0:\n",
    "            break\n",
    "    video_onsets.sort()\n",
    "    video_onsets = np.array(video_onsets)\n",
    "    return video_onsets\n",
    "\n",
    "\n"
   ]
  },
  {
   "cell_type": "code",
   "execution_count": 40,
   "metadata": {},
   "outputs": [
    {
     "data": {
      "image/png": "[encoded data removed]",
      "text/plain": [
       "<Figure size 600x400 with 1 Axes>"
      ]
     },
     "metadata": {
      "needs_background": "light"
     },
     "output_type": "display_data"
    }
   ],
   "source": [
    "from matplotlib import pyplot as plt\n",
    "# video_onsets = (np.nonzero(pred > 0.5)[0] / 15 * ori_sr).astype(int)\n",
    "video_onsets = postprocess_video_onsets(pred, thres=0.5, nearest=4)\n",
    "video_onsets = (video_onsets / 15 * ori_sr).astype(int)\n",
    "plt.figure(dpi=100)\n",
    "\n",
    "time = np.arange(ori_audio.shape[0])\n",
    "plt.plot(time, ori_audio)\n",
    "plt.vlines(video_onsets, 0, ymax=0.8, colors='r')\n",
    "plt.show()\n"
   ]
  },
  {
   "cell_type": "code",
   "execution_count": 41,
   "metadata": {},
   "outputs": [
    {
     "data": {
      "text/plain": [
       "array([-0.06068027, -0.0599093 , -0.05623583, -0.01206349])"
      ]
     },
     "execution_count": 41,
     "metadata": {},
     "output_type": "execute_result"
    }
   ],
   "source": [
    "(onsets - video_onsets) / ori_sr\n",
    "# video_onsets"
   ]
  },
  {
   "cell_type": "code",
   "execution_count": 42,
   "metadata": {},
   "outputs": [],
   "source": [
    "def get_onset_audio_range(audio_len, onsets, i):\n",
    "    if i == 0:\n",
    "        prev_offset = int(onsets[i] // 3)\n",
    "    else:\n",
    "        prev_offset = int((onsets[i] - onsets[i - 1]) // 3)\n",
    "\n",
    "    if i == onsets.shape[0] - 1:\n",
    "        post_offset = int((audio_len - onsets[i]) // 4 * 2)\n",
    "    else:\n",
    "        post_offset = int((onsets[i + 1] - onsets[i]) // 4 * 2)\n",
    "    return prev_offset, post_offset\n"
   ]
  },
  {
   "cell_type": "code",
   "execution_count": 43,
   "metadata": {},
   "outputs": [],
   "source": [
    "# ori_onsets = detect_onset_of_audio(ori_audio, ori_sr)\n",
    "con_onsets = detect_onset_of_audio(con_audio, con_sr)\n",
    "\n",
    "np.random.seed(2022)\n",
    "gen_audio = np.zeros_like(ori_audio)\n",
    "for i in range(video_onsets.shape[0]):\n",
    "    prev_offset, post_offset = get_onset_audio_range(int(con_sr * 2), video_onsets, i)\n",
    "    j = np.random.choice(con_onsets.shape[0])\n",
    "    prev_offset_con, post_offset_con = get_onset_audio_range(con_audio.shape[0], con_onsets, j)\n",
    "    prev_offset = min(prev_offset, prev_offset_con)\n",
    "    post_offset = min(post_offset, post_offset_con)\n",
    "    gen_audio[video_onsets[i] - prev_offset: video_onsets[i] + post_offset] = con_audio[con_onsets[j] - prev_offset: con_onsets[j] + post_offset]\n",
    "\n"
   ]
  },
  {
   "cell_type": "code",
   "execution_count": 44,
   "metadata": {},
   "outputs": [
    {
     "data": {
      "image/png": "[encoded data removed]",
      "text/plain": [
       "<Figure size 600x400 with 1 Axes>"
      ]
     },
     "metadata": {
      "needs_background": "light"
     },
     "output_type": "display_data"
    }
   ],
   "source": [
    "from matplotlib import pyplot as plt\n",
    "plt.figure(dpi=100)\n",
    "time = np.arange(gen_audio.shape[0])\n",
    "plt.plot(time, gen_audio)\n",
    "plt.show()\n"
   ]
  },
  {
   "cell_type": "code",
   "execution_count": 45,
   "metadata": {},
   "outputs": [],
   "source": [
    "# save audio\n",
    "import soundfile as sf\n",
    "sf.write('data/gen_audio.wav', gen_audio, ori_sr)\n"
   ]
  },
  {
   "cell_type": "code",
   "execution_count": 46,
   "metadata": {},
   "outputs": [
    {
     "name": "stderr",
     "output_type": "stream",
     "text": [
      "t:  58%|█████▊    | 26/45 [00:41<00:05,  3.45it/s, now=None]"
     ]
    },
    {
     "name": "stdout",
     "output_type": "stream",
     "text": [
      "Moviepy - Building video data/generate.mp4.\n",
      "MoviePy - Writing audio in generateTEMP_MPY_wvf_snd.mp3\n"
     ]
    },
    {
     "name": "stderr",
     "output_type": "stream",
     "text": [
      "t:  58%|█████▊    | 26/45 [00:42<00:05,  3.45it/s, now=None]"
     ]
    },
    {
     "name": "stdout",
     "output_type": "stream",
     "text": [
      "MoviePy - Done.\n",
      "Moviepy - Writing video data/generate.mp4\n",
      "\n"
     ]
    },
    {
     "name": "stderr",
     "output_type": "stream",
     "text": [
      "t:  58%|█████▊    | 26/45 [01:03<00:05,  3.45it/s, now=None]"
     ]
    },
    {
     "name": "stdout",
     "output_type": "stream",
     "text": [
      "Moviepy - Done !\n",
      "Moviepy - video ready data/generate.mp4\n"
     ]
    }
   ],
   "source": [
    "gen_audioclip = AudioFileClip(\"data/gen_audio.wav\")\n",
    "gen_videoclip = ori_videoclip.set_audio(gen_audioclip)\n",
    "gen_videoclip.write_videofile('data/generate.mp4')\n"
   ]
  },
  {
   "cell_type": "code",
   "execution_count": 47,
   "metadata": {},
   "outputs": [
    {
     "data": {
      "text/html": [
       "<video src=\"data/generate.mp4\" controls  width=\"640\" >\n",
       "      Your browser does not support the <code>video</code> element.\n",
       "    </video>"
      ],
      "text/plain": [
       "<IPython.core.display.Video object>"
      ]
     },
     "execution_count": 47,
     "metadata": {},
     "output_type": "execute_result"
    }
   ],
   "source": [
    "Video('data/generate.mp4', width=640)\n"
   ]
  }
 ],
 "metadata": {
  "interpreter": {
   "hash": "419ed25a44e8f5205333d07bc5a26d3abb4bd07afa4dac02924f75b129c3e2d9"
  },
  "kernelspec": {
   "display_name": "Python 3.8.8 ('AVanalogy')",
   "language": "python",
   "name": "python3"
  },
  "language_info": {
   "codemirror_mode": {
    "name": "ipython",
    "version": 3
   },
   "file_extension": ".py",
   "mimetype": "text/x-python",
   "name": "python",
   "nbconvert_exporter": "python",
   "pygments_lexer": "ipython3",
   "version": "3.8.8"
  }
 },
 "nbformat": 4,
 "nbformat_minor": 2
}
